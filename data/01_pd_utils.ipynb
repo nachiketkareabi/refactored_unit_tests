{
 "cells": [
  {
   "cell_type": "code",
   "execution_count": 1,
   "metadata": {},
   "outputs": [],
   "source": [
    "# Data reader"
   ]
  },
  {
   "cell_type": "code",
   "execution_count": 2,
   "metadata": {},
   "outputs": [],
   "source": [
    "# import pandas as pd"
   ]
  },
  {
   "cell_type": "code",
   "execution_count": 3,
   "metadata": {},
   "outputs": [],
   "source": [
    "# import ray\n",
    "# ray.init(runtime_env={'env_vars': {'__MODIN_AUTOIMPORT_PANDAS__': '1'}})\n",
    "# import modin.pandas as pd"
   ]
  },
  {
   "cell_type": "code",
   "execution_count": 4,
   "metadata": {},
   "outputs": [
    {
     "name": "stdout",
     "output_type": "stream",
     "text": [
      "23/03/01 12:38:38 WARN Utils: Your hostname, abinbev resolves to a loopback address: 127.0.1.1; using 192.168.0.105 instead (on interface wlp0s20f3)\n",
      "23/03/01 12:38:38 WARN Utils: Set SPARK_LOCAL_IP if you need to bind to another address\n"
     ]
    },
    {
     "name": "stderr",
     "output_type": "stream",
     "text": [
      "Setting default log level to \"WARN\".\n",
      "To adjust logging level use sc.setLogLevel(newLevel). For SparkR, use setLogLevel(newLevel).\n"
     ]
    },
    {
     "name": "stdout",
     "output_type": "stream",
     "text": [
      "23/03/01 12:38:39 WARN NativeCodeLoader: Unable to load native-hadoop library for your platform... using builtin-java classes where applicable\n",
      "23/03/01 12:38:43 WARN SparkSession: Using an existing Spark session; only runtime SQL configurations will take effect.\n"
     ]
    }
   ],
   "source": [
    "import os\n",
    "os.environ[\"PYARROW_IGNORE_TIMEZONE\"] = \"1\"\n",
    "from pyspark.sql import SparkSession\n",
    "import pyspark.pandas as pd\n",
    "pd.set_option('compute.default_index_type', 'distributed')\n",
    "\n",
    "spark = SparkSession.builder \\\n",
    ".master('local[*]') \\\n",
    ".config(\"spark.driver.memory\", \"10g\") \\\n",
    ".getOrCreate()"
   ]
  },
  {
   "cell_type": "code",
   "execution_count": 5,
   "metadata": {},
   "outputs": [],
   "source": [
    "select_cols = ['a', 'b']\n",
    "data_type_parser = {'b': 'int8', 'a': 'int8'}                                  \n",
    "\n",
    "def is_consistent_cols_and_parser(select_cols, data_type_parser):\n",
    "    if select_cols is None:\n",
    "        return True\n",
    "    if data_type_parser is None:\n",
    "        return False\n",
    "    if set(select_cols) != set(data_type_parser.keys()):\n",
    "        return False\n",
    "    return True\n",
    "\n",
    "def read_csv_with_parser(file_path, select_cols=None, data_type_parser=None, compression = None):\n",
    "    if not is_consistent_cols_and_parser(select_cols, data_type_parser):\n",
    "        raise ValueError('select_cols and data_type_parser are not consistent')\n",
    "    if select_cols is None:\n",
    "        return pd.read_csv(file_path, compression = compression)\n",
    "    if data_type_parser is None:\n",
    "        return pd.read_csv(file_path, usecols=select_cols, compression = compression)\n",
    "    return pd.read_csv(file_path, usecols=select_cols, dtype=data_type_parser, compression = compression)\n",
    "try:\n",
    "    df = read_csv_with_parser('test.csv', select_cols, data_type_parser)\n",
    "    df_gzip = read_csv_with_parser('test.csv.gzip', select_cols, data_type_parser, compression = 'gzip')\n",
    "except Exception as e:\n",
    "    pass\n",
    "\n",
    "def get_df():\n",
    "    return pd.DataFrame({'a': [1, 2, 3], 'b': [4, 5, 6]})\n",
    "\n",
    "def get_df_time():\n",
    "    return pd.DataFrame({'a': [1, 2, 3], 'b': [4, 5, 6], 'c': ['2019-01-01', '2019-01-02', '2019-01-03'], 'd': ['2019-01-01', '2019-01-02', '2019-01-03']})\n",
    "\n",
    "def get_df_time_str():\n",
    "    return pd.DataFrame({'a': [1, 2, 3], 'b': [4, 5, 6], 'c': ['2019-01-01', '2019-01-02', '2019-01-03'], 'd': ['2019-01-01', '2019-01-02', '2019-01-03'], 'e': ['a', 'b', 'c']})"
   ]
  },
  {
   "attachments": {},
   "cell_type": "markdown",
   "metadata": {},
   "source": [
    "* select columns and keys of data type parser has to be same.\n",
    "* values of data type parser has to be minimal data type of the column.\n",
    "* TODO: Write something similar for parquet and parquet-gzip"
   ]
  },
  {
   "cell_type": "code",
   "execution_count": 6,
   "metadata": {},
   "outputs": [
    {
     "name": "stderr",
     "output_type": "stream",
     "text": [
      "/home/abinbev/anaconda3/envs/aikit-modin/lib/python3.9/site-packages/pyspark/pandas/internal.py:1573: FutureWarning: iteritems is deprecated and will be removed in a future version. Use .items instead.\n",
      "  fields = [\n",
      "/home/abinbev/anaconda3/envs/aikit-modin/lib/python3.9/site-packages/pyspark/sql/pandas/conversion.py:486: FutureWarning: iteritems is deprecated and will be removed in a future version. Use .items instead.\n",
      "  for column, series in pdf.iteritems():\n",
      "/home/abinbev/anaconda3/envs/aikit-modin/lib/python3.9/site-packages/pyspark/pandas/internal.py:1573: FutureWarning: iteritems is deprecated and will be removed in a future version. Use .items instead.\n",
      "  fields = [\n",
      "/home/abinbev/anaconda3/envs/aikit-modin/lib/python3.9/site-packages/pyspark/sql/pandas/conversion.py:486: FutureWarning: iteritems is deprecated and will be removed in a future version. Use .items instead.\n",
      "  for column, series in pdf.iteritems():\n"
     ]
    }
   ],
   "source": [
    "# Data parser\n",
    "df = get_df()\n",
    "df_date = get_df_time()"
   ]
  },
  {
   "cell_type": "code",
   "execution_count": 7,
   "metadata": {},
   "outputs": [],
   "source": [
    "select_cols = ['a', 'b', 'c', 'd']\n",
    "data_type_parser = {'b': 'int8', 'a': 'int8', 'c': 'str', 'd': 'str'}\n",
    "date_formats = {'d': '%Y-%m-%d', 'c': '%Y-%m-%d'}"
   ]
  },
  {
   "cell_type": "code",
   "execution_count": 8,
   "metadata": {},
   "outputs": [
    {
     "name": "stderr",
     "output_type": "stream",
     "text": [
      "/home/abinbev/anaconda3/envs/aikit-modin/lib/python3.9/site-packages/pyspark/pandas/internal.py:1573: FutureWarning: iteritems is deprecated and will be removed in a future version. Use .items instead.\n",
      "  fields = [\n",
      "/home/abinbev/anaconda3/envs/aikit-modin/lib/python3.9/site-packages/pyspark/sql/pandas/conversion.py:486: FutureWarning: iteritems is deprecated and will be removed in a future version. Use .items instead.\n",
      "  for column, series in pdf.iteritems():\n",
      "/home/abinbev/anaconda3/envs/aikit-modin/lib/python3.9/site-packages/pyspark/python/lib/pyspark.zip/pyspark/pandas/internal.py:1573: FutureWarning: iteritems is deprecated and will be removed in a future version. Use .items instead.\n",
      "/home/abinbev/anaconda3/envs/aikit-modin/lib/python3.9/site-packages/pyspark/python/lib/pyspark.zip/pyspark/pandas/internal.py:1573: FutureWarning: iteritems is deprecated and will be removed in a future version. Use .items instead.\n",
      "/home/abinbev/anaconda3/envs/aikit-modin/lib/python3.9/site-packages/pyspark/python/lib/pyspark.zip/pyspark/pandas/internal.py:1573: FutureWarning: iteritems is deprecated and will be removed in a future version. Use .items instead.\n",
      "/home/abinbev/anaconda3/envs/aikit-modin/lib/python3.9/site-packages/pyspark/python/lib/pyspark.zip/pyspark/pandas/internal.py:1573: FutureWarning: iteritems is deprecated and will be removed in a future version. Use .items instead.\n",
      "/home/abinbev/anaconda3/envs/aikit-modin/lib/python3.9/site-packages/pyspark/python/lib/pyspark.zip/pyspark/pandas/internal.py:1573: FutureWarning: iteritems is deprecated and will be removed in a future version. Use .items instead.\n",
      "/home/abinbev/anaconda3/envs/aikit-modin/lib/python3.9/site-packages/pyspark/python/lib/pyspark.zip/pyspark/pandas/internal.py:1573: FutureWarning: iteritems is deprecated and will be removed in a future version. Use .items instead.\n",
      "/home/abinbev/anaconda3/envs/aikit-modin/lib/python3.9/site-packages/pyspark/sql/pandas/conversion.py:248: FutureWarning: Passing unit-less datetime64 dtype to .astype is deprecated and will raise in a future version. Pass 'datetime64[ns]' instead\n",
      "  series = series.astype(t, copy=False)\n",
      "/home/abinbev/anaconda3/envs/aikit-modin/lib/python3.9/site-packages/pyspark/sql/pandas/conversion.py:248: FutureWarning: Passing unit-less datetime64 dtype to .astype is deprecated and will raise in a future version. Pass 'datetime64[ns]' instead\n",
      "  series = series.astype(t, copy=False)\n"
     ]
    },
    {
     "data": {
      "text/html": [
       "<div>\n",
       "<style scoped>\n",
       "    .dataframe tbody tr th:only-of-type {\n",
       "        vertical-align: middle;\n",
       "    }\n",
       "\n",
       "    .dataframe tbody tr th {\n",
       "        vertical-align: top;\n",
       "    }\n",
       "\n",
       "    .dataframe thead th {\n",
       "        text-align: right;\n",
       "    }\n",
       "</style>\n",
       "<table border=\"1\" class=\"dataframe\">\n",
       "  <thead>\n",
       "    <tr style=\"text-align: right;\">\n",
       "      <th></th>\n",
       "      <th>a</th>\n",
       "      <th>b</th>\n",
       "      <th>c</th>\n",
       "      <th>d</th>\n",
       "    </tr>\n",
       "  </thead>\n",
       "  <tbody>\n",
       "    <tr>\n",
       "      <th>0</th>\n",
       "      <td>1</td>\n",
       "      <td>4</td>\n",
       "      <td>2019-01-01</td>\n",
       "      <td>2019-01-01</td>\n",
       "    </tr>\n",
       "    <tr>\n",
       "      <th>1</th>\n",
       "      <td>2</td>\n",
       "      <td>5</td>\n",
       "      <td>2019-01-02</td>\n",
       "      <td>2019-01-02</td>\n",
       "    </tr>\n",
       "    <tr>\n",
       "      <th>2</th>\n",
       "      <td>3</td>\n",
       "      <td>6</td>\n",
       "      <td>2019-01-03</td>\n",
       "      <td>2019-01-03</td>\n",
       "    </tr>\n",
       "  </tbody>\n",
       "</table>\n",
       "</div>"
      ],
      "text/plain": [
       "   a  b          c          d\n",
       "0  1  4 2019-01-01 2019-01-01\n",
       "1  2  5 2019-01-02 2019-01-02\n",
       "2  3  6 2019-01-03 2019-01-03"
      ]
     },
     "execution_count": 8,
     "metadata": {},
     "output_type": "execute_result"
    }
   ],
   "source": [
    "def parse_date(df, date_formats):\n",
    "    for col in date_formats.keys():\n",
    "        df[col] = pd.to_datetime(df[col], format=date_formats[col])\n",
    "    return df\n",
    "\n",
    "try:\n",
    "    df_date = read_csv_with_parser('test_date.csv')\n",
    "except:\n",
    "    df_date = get_df_time()\n",
    "df_date = parse_date(df_date, date_formats)\n",
    "df_date"
   ]
  },
  {
   "cell_type": "code",
   "execution_count": 9,
   "metadata": {},
   "outputs": [
    {
     "name": "stderr",
     "output_type": "stream",
     "text": [
      "/home/abinbev/anaconda3/envs/aikit-modin/lib/python3.9/site-packages/pyspark/python/lib/pyspark.zip/pyspark/pandas/internal.py:1573: FutureWarning: iteritems is deprecated and will be removed in a future version. Use .items instead.\n",
      "/home/abinbev/anaconda3/envs/aikit-modin/lib/python3.9/site-packages/pyspark/python/lib/pyspark.zip/pyspark/pandas/internal.py:1573: FutureWarning: iteritems is deprecated and will be removed in a future version. Use .items instead.\n",
      "/home/abinbev/anaconda3/envs/aikit-modin/lib/python3.9/site-packages/pyspark/sql/pandas/conversion.py:248: FutureWarning: Passing unit-less datetime64 dtype to .astype is deprecated and will raise in a future version. Pass 'datetime64[ns]' instead\n",
      "  series = series.astype(t, copy=False)\n",
      "/home/abinbev/anaconda3/envs/aikit-modin/lib/python3.9/site-packages/pyspark/sql/pandas/conversion.py:248: FutureWarning: Passing unit-less datetime64 dtype to .astype is deprecated and will raise in a future version. Pass 'datetime64[ns]' instead\n",
      "  series = series.astype(t, copy=False)\n"
     ]
    },
    {
     "data": {
      "text/html": [
       "<div>\n",
       "<style scoped>\n",
       "    .dataframe tbody tr th:only-of-type {\n",
       "        vertical-align: middle;\n",
       "    }\n",
       "\n",
       "    .dataframe tbody tr th {\n",
       "        vertical-align: top;\n",
       "    }\n",
       "\n",
       "    .dataframe thead th {\n",
       "        text-align: right;\n",
       "    }\n",
       "</style>\n",
       "<table border=\"1\" class=\"dataframe\">\n",
       "  <thead>\n",
       "    <tr style=\"text-align: right;\">\n",
       "      <th></th>\n",
       "      <th>a</th>\n",
       "      <th>b</th>\n",
       "      <th>c</th>\n",
       "      <th>d</th>\n",
       "    </tr>\n",
       "  </thead>\n",
       "  <tbody>\n",
       "    <tr>\n",
       "      <th>0</th>\n",
       "      <td>1</td>\n",
       "      <td>4</td>\n",
       "      <td>2019-01-01</td>\n",
       "      <td>2019-01-01</td>\n",
       "    </tr>\n",
       "  </tbody>\n",
       "</table>\n",
       "</div>"
      ],
      "text/plain": [
       "   a  b          c          d\n",
       "0  1  4 2019-01-01 2019-01-01"
      ]
     },
     "execution_count": 9,
     "metadata": {},
     "output_type": "execute_result"
    }
   ],
   "source": [
    "def filter_by_range_with_eq(df, rage_filter):\n",
    "    for col in rage_filter.keys():\n",
    "        df = df[(df[col] >= rage_filter[col][0]) & (df[col] <= rage_filter[col][1])]\n",
    "    return df\n",
    "\n",
    "rage_filter = {'a': [1, 2], 'b': [0, 4]}\n",
    "df_date = filter_by_range_with_eq(df_date, rage_filter)\n",
    "df_date"
   ]
  },
  {
   "cell_type": "code",
   "execution_count": 10,
   "metadata": {},
   "outputs": [
    {
     "name": "stderr",
     "output_type": "stream",
     "text": [
      "/home/abinbev/anaconda3/envs/aikit-modin/lib/python3.9/site-packages/pyspark/pandas/internal.py:1573: FutureWarning: iteritems is deprecated and will be removed in a future version. Use .items instead.\n",
      "  fields = [\n",
      "/home/abinbev/anaconda3/envs/aikit-modin/lib/python3.9/site-packages/pyspark/sql/pandas/conversion.py:486: FutureWarning: iteritems is deprecated and will be removed in a future version. Use .items instead.\n",
      "  for column, series in pdf.iteritems():\n",
      "/home/abinbev/anaconda3/envs/aikit-modin/lib/python3.9/site-packages/pyspark/python/lib/pyspark.zip/pyspark/pandas/internal.py:1573: FutureWarning: iteritems is deprecated and will be removed in a future version. Use .items instead.\n",
      "/home/abinbev/anaconda3/envs/aikit-modin/lib/python3.9/site-packages/pyspark/python/lib/pyspark.zip/pyspark/pandas/internal.py:1573: FutureWarning: iteritems is deprecated and will be removed in a future version. Use .items instead.\n",
      "/home/abinbev/anaconda3/envs/aikit-modin/lib/python3.9/site-packages/pyspark/python/lib/pyspark.zip/pyspark/pandas/internal.py:1573: FutureWarning: iteritems is deprecated and will be removed in a future version. Use .items instead.\n",
      "/home/abinbev/anaconda3/envs/aikit-modin/lib/python3.9/site-packages/pyspark/python/lib/pyspark.zip/pyspark/pandas/internal.py:1573: FutureWarning: iteritems is deprecated and will be removed in a future version. Use .items instead.\n",
      "/home/abinbev/anaconda3/envs/aikit-modin/lib/python3.9/site-packages/pyspark/python/lib/pyspark.zip/pyspark/pandas/internal.py:1573: FutureWarning: iteritems is deprecated and will be removed in a future version. Use .items instead.\n",
      "/home/abinbev/anaconda3/envs/aikit-modin/lib/python3.9/site-packages/pyspark/python/lib/pyspark.zip/pyspark/pandas/internal.py:1573: FutureWarning: iteritems is deprecated and will be removed in a future version. Use .items instead.\n",
      "/home/abinbev/anaconda3/envs/aikit-modin/lib/python3.9/site-packages/pyspark/python/lib/pyspark.zip/pyspark/pandas/internal.py:1573: FutureWarning: iteritems is deprecated and will be removed in a future version. Use .items instead.\n",
      "/home/abinbev/anaconda3/envs/aikit-modin/lib/python3.9/site-packages/pyspark/sql/pandas/conversion.py:248: FutureWarning: Passing unit-less datetime64 dtype to .astype is deprecated and will raise in a future version. Pass 'datetime64[ns]' instead\n",
      "  series = series.astype(t, copy=False)\n",
      "/home/abinbev/anaconda3/envs/aikit-modin/lib/python3.9/site-packages/pyspark/sql/pandas/conversion.py:248: FutureWarning: Passing unit-less datetime64 dtype to .astype is deprecated and will raise in a future version. Pass 'datetime64[ns]' instead\n",
      "  series = series.astype(t, copy=False)\n"
     ]
    },
    {
     "data": {
      "text/html": [
       "<div>\n",
       "<style scoped>\n",
       "    .dataframe tbody tr th:only-of-type {\n",
       "        vertical-align: middle;\n",
       "    }\n",
       "\n",
       "    .dataframe tbody tr th {\n",
       "        vertical-align: top;\n",
       "    }\n",
       "\n",
       "    .dataframe thead th {\n",
       "        text-align: right;\n",
       "    }\n",
       "</style>\n",
       "<table border=\"1\" class=\"dataframe\">\n",
       "  <thead>\n",
       "    <tr style=\"text-align: right;\">\n",
       "      <th></th>\n",
       "      <th>a</th>\n",
       "      <th>b</th>\n",
       "      <th>c</th>\n",
       "      <th>d</th>\n",
       "    </tr>\n",
       "  </thead>\n",
       "  <tbody>\n",
       "    <tr>\n",
       "      <th>0</th>\n",
       "      <td>1</td>\n",
       "      <td>4</td>\n",
       "      <td>2019-01-01</td>\n",
       "      <td>2019-01-01</td>\n",
       "    </tr>\n",
       "    <tr>\n",
       "      <th>1</th>\n",
       "      <td>2</td>\n",
       "      <td>5</td>\n",
       "      <td>2019-01-02</td>\n",
       "      <td>2019-01-02</td>\n",
       "    </tr>\n",
       "  </tbody>\n",
       "</table>\n",
       "</div>"
      ],
      "text/plain": [
       "   a  b          c          d\n",
       "0  1  4 2019-01-01 2019-01-01\n",
       "1  2  5 2019-01-02 2019-01-02"
      ]
     },
     "execution_count": 10,
     "metadata": {},
     "output_type": "execute_result"
    }
   ],
   "source": [
    "try:\n",
    "    df_date = read_csv_with_parser('test_date.csv', select_cols, data_type_parser)\n",
    "except:\n",
    "    df_date = get_df_time()\n",
    "df_date = parse_date(df_date, date_formats)\n",
    "range_filter = {'a': [1, 3], 'b': [0, 6], 'c': ['2019-01-01', '2019-01-02']}\n",
    "df_date = filter_by_range_with_eq(df_date, range_filter)\n",
    "df_date"
   ]
  },
  {
   "cell_type": "code",
   "execution_count": 11,
   "metadata": {},
   "outputs": [],
   "source": [
    "def filter_by_str(df, str_filter):\n",
    "    for col in str_filter.keys():\n",
    "        df = df[df[col].isin(str_filter[col])]\n",
    "    return df"
   ]
  },
  {
   "cell_type": "code",
   "execution_count": 12,
   "metadata": {},
   "outputs": [
    {
     "name": "stderr",
     "output_type": "stream",
     "text": [
      "/home/abinbev/anaconda3/envs/aikit-modin/lib/python3.9/site-packages/pyspark/pandas/internal.py:1573: FutureWarning: iteritems is deprecated and will be removed in a future version. Use .items instead.\n",
      "  fields = [\n",
      "/home/abinbev/anaconda3/envs/aikit-modin/lib/python3.9/site-packages/pyspark/sql/pandas/conversion.py:486: FutureWarning: iteritems is deprecated and will be removed in a future version. Use .items instead.\n",
      "  for column, series in pdf.iteritems():\n"
     ]
    },
    {
     "data": {
      "text/html": [
       "<div>\n",
       "<style scoped>\n",
       "    .dataframe tbody tr th:only-of-type {\n",
       "        vertical-align: middle;\n",
       "    }\n",
       "\n",
       "    .dataframe tbody tr th {\n",
       "        vertical-align: top;\n",
       "    }\n",
       "\n",
       "    .dataframe thead th {\n",
       "        text-align: right;\n",
       "    }\n",
       "</style>\n",
       "<table border=\"1\" class=\"dataframe\">\n",
       "  <thead>\n",
       "    <tr style=\"text-align: right;\">\n",
       "      <th></th>\n",
       "      <th>a</th>\n",
       "      <th>b</th>\n",
       "      <th>c</th>\n",
       "      <th>d</th>\n",
       "      <th>e</th>\n",
       "    </tr>\n",
       "  </thead>\n",
       "  <tbody>\n",
       "    <tr>\n",
       "      <th>0</th>\n",
       "      <td>1</td>\n",
       "      <td>4</td>\n",
       "      <td>2019-01-01</td>\n",
       "      <td>2019-01-01</td>\n",
       "      <td>a</td>\n",
       "    </tr>\n",
       "    <tr>\n",
       "      <th>1</th>\n",
       "      <td>2</td>\n",
       "      <td>5</td>\n",
       "      <td>2019-01-02</td>\n",
       "      <td>2019-01-02</td>\n",
       "      <td>b</td>\n",
       "    </tr>\n",
       "  </tbody>\n",
       "</table>\n",
       "</div>"
      ],
      "text/plain": [
       "   a  b           c           d  e\n",
       "0  1  4  2019-01-01  2019-01-01  a\n",
       "1  2  5  2019-01-02  2019-01-02  b"
      ]
     },
     "execution_count": 12,
     "metadata": {},
     "output_type": "execute_result"
    }
   ],
   "source": [
    "str_filter = {'e': ['a', 'b']}\n",
    "try:\n",
    "    df_date = read_csv_with_parser('test_date_str.csv')\n",
    "except:\n",
    "    df_date = get_df_time_str()\n",
    "df_date = filter_by_str(df_date, str_filter)\n",
    "df_date"
   ]
  },
  {
   "cell_type": "code",
   "execution_count": 13,
   "metadata": {},
   "outputs": [
    {
     "name": "stderr",
     "output_type": "stream",
     "text": [
      "/home/abinbev/anaconda3/envs/aikit-modin/lib/python3.9/site-packages/pyspark/pandas/internal.py:1573: FutureWarning: iteritems is deprecated and will be removed in a future version. Use .items instead.\n",
      "  fields = [\n",
      "/home/abinbev/anaconda3/envs/aikit-modin/lib/python3.9/site-packages/pyspark/sql/pandas/conversion.py:486: FutureWarning: iteritems is deprecated and will be removed in a future version. Use .items instead.\n",
      "  for column, series in pdf.iteritems():\n",
      "/home/abinbev/anaconda3/envs/aikit-modin/lib/python3.9/site-packages/pyspark/pandas/utils.py:975: PandasAPIOnSparkAdviceWarning: `to_list` loads all data into the driver's memory. It should only be used if the resulting list is expected to be small.\n",
      "  warnings.warn(message, PandasAPIOnSparkAdviceWarning)\n",
      "/home/abinbev/anaconda3/envs/aikit-modin/lib/python3.9/site-packages/pyspark/pandas/utils.py:975: PandasAPIOnSparkAdviceWarning: `to_list` loads all data into the driver's memory. It should only be used if the resulting list is expected to be small.\n",
      "  warnings.warn(message, PandasAPIOnSparkAdviceWarning)\n",
      "/home/abinbev/anaconda3/envs/aikit-modin/lib/python3.9/site-packages/pyspark/pandas/utils.py:975: PandasAPIOnSparkAdviceWarning: `to_list` loads all data into the driver's memory. It should only be used if the resulting list is expected to be small.\n",
      "  warnings.warn(message, PandasAPIOnSparkAdviceWarning)\n"
     ]
    },
    {
     "data": {
      "text/plain": [
       "{'c': ['2019-01-01', '2019-01-02', '2019-01-03'],\n",
       " 'd': ['2019-01-01', '2019-01-02', '2019-01-03'],\n",
       " 'e': ['a', 'b', 'c']}"
      ]
     },
     "execution_count": 13,
     "metadata": {},
     "output_type": "execute_result"
    }
   ],
   "source": [
    "def get_unique_str_date(df):\n",
    "    str_cols = df.select_dtypes(include=['object']).columns.tolist()\n",
    "    date_cols = df.select_dtypes(include=['datetime64[ns]']).columns.tolist()\n",
    "    cols_to_check = str_cols + date_cols\n",
    "    unique_dict = {}\n",
    "    for col in cols_to_check:\n",
    "        unique_dict[col] = df[col].unique().tolist()\n",
    "    return unique_dict\n",
    "\n",
    "try:\n",
    "    df_date = read_csv_with_parser('test_date_str.csv')\n",
    "except:\n",
    "    df_date = get_df_time_str()\n",
    "get_unique_str_date(df_date)"
   ]
  },
  {
   "cell_type": "code",
   "execution_count": 14,
   "metadata": {},
   "outputs": [
    {
     "name": "stderr",
     "output_type": "stream",
     "text": [
      "/home/abinbev/anaconda3/envs/aikit-modin/lib/python3.9/site-packages/pyspark/pandas/internal.py:1573: FutureWarning: iteritems is deprecated and will be removed in a future version. Use .items instead.\n",
      "  fields = [\n",
      "/home/abinbev/anaconda3/envs/aikit-modin/lib/python3.9/site-packages/pyspark/sql/pandas/conversion.py:486: FutureWarning: iteritems is deprecated and will be removed in a future version. Use .items instead.\n",
      "  for column, series in pdf.iteritems():\n",
      "/home/abinbev/anaconda3/envs/aikit-modin/lib/python3.9/site-packages/pyspark/python/lib/pyspark.zip/pyspark/pandas/internal.py:1573: FutureWarning: iteritems is deprecated and will be removed in a future version. Use .items instead.\n",
      "/home/abinbev/anaconda3/envs/aikit-modin/lib/python3.9/site-packages/pyspark/python/lib/pyspark.zip/pyspark/pandas/internal.py:1573: FutureWarning: iteritems is deprecated and will be removed in a future version. Use .items instead.\n",
      "/home/abinbev/anaconda3/envs/aikit-modin/lib/python3.9/site-packages/pyspark/python/lib/pyspark.zip/pyspark/pandas/internal.py:1573: FutureWarning: iteritems is deprecated and will be removed in a future version. Use .items instead.\n",
      "/home/abinbev/anaconda3/envs/aikit-modin/lib/python3.9/site-packages/pyspark/sql/pandas/conversion.py:248: FutureWarning: Passing unit-less datetime64 dtype to .astype is deprecated and will raise in a future version. Pass 'datetime64[ns]' instead\n",
      "  series = series.astype(t, copy=False)\n",
      "/home/abinbev/anaconda3/envs/aikit-modin/lib/python3.9/site-packages/pyspark/python/lib/pyspark.zip/pyspark/pandas/internal.py:1573: FutureWarning: iteritems is deprecated and will be removed in a future version. Use .items instead.\n",
      "/home/abinbev/anaconda3/envs/aikit-modin/lib/python3.9/site-packages/pyspark/python/lib/pyspark.zip/pyspark/pandas/internal.py:1573: FutureWarning: iteritems is deprecated and will be removed in a future version. Use .items instead.\n",
      "/home/abinbev/anaconda3/envs/aikit-modin/lib/python3.9/site-packages/pyspark/python/lib/pyspark.zip/pyspark/pandas/internal.py:1573: FutureWarning: iteritems is deprecated and will be removed in a future version. Use .items instead.\n",
      "/home/abinbev/anaconda3/envs/aikit-modin/lib/python3.9/site-packages/pyspark/sql/pandas/conversion.py:248: FutureWarning: Passing unit-less datetime64 dtype to .astype is deprecated and will raise in a future version. Pass 'datetime64[ns]' instead\n",
      "  series = series.astype(t, copy=False)\n",
      "/home/abinbev/anaconda3/envs/aikit-modin/lib/python3.9/site-packages/pyspark/python/lib/pyspark.zip/pyspark/pandas/internal.py:1573: FutureWarning: iteritems is deprecated and will be removed in a future version. Use .items instead.\n",
      "/home/abinbev/anaconda3/envs/aikit-modin/lib/python3.9/site-packages/pyspark/python/lib/pyspark.zip/pyspark/pandas/internal.py:1573: FutureWarning: iteritems is deprecated and will be removed in a future version. Use .items instead.\n",
      "/home/abinbev/anaconda3/envs/aikit-modin/lib/python3.9/site-packages/pyspark/python/lib/pyspark.zip/pyspark/pandas/internal.py:1573: FutureWarning: iteritems is deprecated and will be removed in a future version. Use .items instead.\n",
      "/home/abinbev/anaconda3/envs/aikit-modin/lib/python3.9/site-packages/pyspark/sql/pandas/conversion.py:248: FutureWarning: Passing unit-less datetime64 dtype to .astype is deprecated and will raise in a future version. Pass 'datetime64[ns]' instead\n",
      "  series = series.astype(t, copy=False)\n",
      "/home/abinbev/anaconda3/envs/aikit-modin/lib/python3.9/site-packages/pyspark/python/lib/pyspark.zip/pyspark/pandas/internal.py:1573: FutureWarning: iteritems is deprecated and will be removed in a future version. Use .items instead.\n",
      "/home/abinbev/anaconda3/envs/aikit-modin/lib/python3.9/site-packages/pyspark/python/lib/pyspark.zip/pyspark/pandas/internal.py:1573: FutureWarning: iteritems is deprecated and will be removed in a future version. Use .items instead.\n",
      "/home/abinbev/anaconda3/envs/aikit-modin/lib/python3.9/site-packages/pyspark/python/lib/pyspark.zip/pyspark/pandas/internal.py:1573: FutureWarning: iteritems is deprecated and will be removed in a future version. Use .items instead.\n",
      "/home/abinbev/anaconda3/envs/aikit-modin/lib/python3.9/site-packages/pyspark/sql/pandas/conversion.py:248: FutureWarning: Passing unit-less datetime64 dtype to .astype is deprecated and will raise in a future version. Pass 'datetime64[ns]' instead\n",
      "  series = series.astype(t, copy=False)\n"
     ]
    },
    {
     "data": {
      "text/plain": [
       "{'c': {'min': '2019-01-01', 'max': '2019-01-03'},\n",
       " 'd': {'min': '2019-01-01', 'max': '2019-01-03'}}"
      ]
     },
     "execution_count": 14,
     "metadata": {},
     "output_type": "execute_result"
    }
   ],
   "source": [
    "def get_min_max_num_date(df, date_formats='%Y-%m-%d'):\n",
    "    min_max_dict = {}\n",
    "    # TODO: This does not work in Pandas for Spark\n",
    "    num_cols = df.select_dtypes('number').columns.tolist()\n",
    "    date_cols = df.select_dtypes('datetime64[ns]').columns.tolist()\n",
    "    cols_check = num_cols + date_cols\n",
    "    for col in cols_check:\n",
    "        if col in num_cols:\n",
    "            min_max_dict[col] = {\"min\": df[col].min(), \"max\": df[col].max()}\n",
    "        if col in date_cols:\n",
    "            min_max_dict[col] = {\"min\": df[col].min().strftime(date_formats), \"max\": df[col].max().strftime(date_formats)}\n",
    "    return min_max_dict\n",
    "\n",
    "try:\n",
    "    df_date = read_csv_with_parser('test_date.csv', select_cols, data_type_parser)\n",
    "except:\n",
    "    df_date = get_df_time()\n",
    "df_date = parse_date(df_date, date_formats)\n",
    "get_min_max_num_date(df_date)"
   ]
  },
  {
   "cell_type": "code",
   "execution_count": 15,
   "metadata": {},
   "outputs": [
    {
     "name": "stderr",
     "output_type": "stream",
     "text": [
      "/home/abinbev/anaconda3/envs/aikit-modin/lib/python3.9/site-packages/pyspark/pandas/internal.py:1573: FutureWarning: iteritems is deprecated and will be removed in a future version. Use .items instead.\n",
      "  fields = [\n",
      "/home/abinbev/anaconda3/envs/aikit-modin/lib/python3.9/site-packages/pyspark/sql/pandas/conversion.py:486: FutureWarning: iteritems is deprecated and will be removed in a future version. Use .items instead.\n",
      "  for column, series in pdf.iteritems():\n"
     ]
    },
    {
     "data": {
      "text/plain": [
       "{'c': 3, 'd': 3, 'e': 3}"
      ]
     },
     "execution_count": 15,
     "metadata": {},
     "output_type": "execute_result"
    }
   ],
   "source": [
    "def get_unique_count_str_date(df):\n",
    "    unique_dict = {}\n",
    "    str_cols = df.select_dtypes('object').columns.tolist()\n",
    "    date_cols = df.select_dtypes('datetime64[ns]').columns.tolist()\n",
    "    cols_check = str_cols + date_cols\n",
    "    for col in cols_check:\n",
    "        unique_dict[col] = df[col].nunique()\n",
    "    return unique_dict\n",
    "try:\n",
    "    df_date = read_csv_with_parser('test_date_str.csv')\n",
    "except:\n",
    "    df_date = get_df_time_str()\n",
    "get_unique_count_str_date(df_date)"
   ]
  },
  {
   "cell_type": "code",
   "execution_count": 16,
   "metadata": {},
   "outputs": [
    {
     "name": "stderr",
     "output_type": "stream",
     "text": [
      "/home/abinbev/anaconda3/envs/aikit-modin/lib/python3.9/site-packages/pyspark/pandas/internal.py:1573: FutureWarning: iteritems is deprecated and will be removed in a future version. Use .items instead.\n",
      "  fields = [\n",
      "/home/abinbev/anaconda3/envs/aikit-modin/lib/python3.9/site-packages/pyspark/sql/pandas/conversion.py:486: FutureWarning: iteritems is deprecated and will be removed in a future version. Use .items instead.\n",
      "  for column, series in pdf.iteritems():\n"
     ]
    },
    {
     "data": {
      "text/plain": [
       "{'c': None}"
      ]
     },
     "execution_count": 16,
     "metadata": {},
     "output_type": "execute_result"
    }
   ],
   "source": [
    "def infer_freq(df, date_cols):\n",
    "    freq = {}\n",
    "    for col in date_cols:\n",
    "        try:\n",
    "            freq[col] = pd.infer_freq(df[col])\n",
    "        except Exception as e:\n",
    "            freq[col] = None\n",
    "    return freq\n",
    "try:\n",
    "    df_date = read_csv_with_parser('test_date.csv', select_cols, data_type_parser)\n",
    "except:\n",
    "    df_date = get_df_time()\n",
    "df_date = parse_date(df_date, date_formats)\n",
    "infer_freq(df_date, ['c'])"
   ]
  },
  {
   "cell_type": "code",
   "execution_count": 17,
   "metadata": {},
   "outputs": [
    {
     "name": "stderr",
     "output_type": "stream",
     "text": [
      "/home/abinbev/anaconda3/envs/aikit-modin/lib/python3.9/site-packages/pyspark/pandas/internal.py:1573: FutureWarning: iteritems is deprecated and will be removed in a future version. Use .items instead.\n",
      "  fields = [\n",
      "/home/abinbev/anaconda3/envs/aikit-modin/lib/python3.9/site-packages/pyspark/sql/pandas/conversion.py:486: FutureWarning: iteritems is deprecated and will be removed in a future version. Use .items instead.\n",
      "  for column, series in pdf.iteritems():\n"
     ]
    },
    {
     "data": {
      "text/plain": [
       "{'c': False, 'd': False, 'e': False}"
      ]
     },
     "execution_count": 17,
     "metadata": {},
     "output_type": "execute_result"
    }
   ],
   "source": [
    "def check_duplicate_str_date(df):\n",
    "    str_cols = df.select_dtypes('object').columns.tolist()\n",
    "    date_cols = df.select_dtypes('datetime64[ns]').columns.tolist()\n",
    "    cols_check = str_cols + date_cols\n",
    "    duplicate_status = {}\n",
    "    for col in cols_check:\n",
    "        duplicate_status[col] = df[[col]].duplicated().any()\n",
    "    return duplicate_status\n",
    "try:\n",
    "    df_date = read_csv_with_parser('test_date_str.csv')\n",
    "except:\n",
    "    df_date = get_df_time_str()\n",
    "check_duplicate_str_date(df_date)"
   ]
  },
  {
   "cell_type": "code",
   "execution_count": 18,
   "metadata": {},
   "outputs": [
    {
     "name": "stdout",
     "output_type": "stream",
     "text": [
      "No missing columns\n",
      "Missing columns: ['f']\n"
     ]
    },
    {
     "name": "stderr",
     "output_type": "stream",
     "text": [
      "/home/abinbev/anaconda3/envs/aikit-modin/lib/python3.9/site-packages/pyspark/pandas/internal.py:1573: FutureWarning: iteritems is deprecated and will be removed in a future version. Use .items instead.\n",
      "  fields = [\n",
      "/home/abinbev/anaconda3/envs/aikit-modin/lib/python3.9/site-packages/pyspark/sql/pandas/conversion.py:486: FutureWarning: iteritems is deprecated and will be removed in a future version. Use .items instead.\n",
      "  for column, series in pdf.iteritems():\n"
     ]
    }
   ],
   "source": [
    "def check_missing_cols(df, cols):\n",
    "    missing_cols = []\n",
    "    for col in cols:\n",
    "        if col not in df.columns:\n",
    "            missing_cols.append(col)\n",
    "    return missing_cols\n",
    "\n",
    "def log_missing_cols(df, cols):\n",
    "    missing_cols = check_missing_cols(df, cols)\n",
    "    if len(missing_cols) > 0:\n",
    "        print(f\"Missing columns: {missing_cols}\")\n",
    "    else:\n",
    "        print(\"No missing columns\")\n",
    "\n",
    "try:\n",
    "    df_date = read_csv_with_parser('test_date_str.csv')\n",
    "except:\n",
    "    df_date = get_df_time_str()\n",
    "log_missing_cols(df_date, ['a', 'b', 'c', 'd', 'e'])\n",
    "log_missing_cols(df_date, ['a', 'b', 'c', 'd', 'e', 'f'])"
   ]
  },
  {
   "cell_type": "code",
   "execution_count": 19,
   "metadata": {},
   "outputs": [
    {
     "name": "stderr",
     "output_type": "stream",
     "text": [
      "/home/abinbev/anaconda3/envs/aikit-modin/lib/python3.9/site-packages/pyspark/pandas/internal.py:1573: FutureWarning: iteritems is deprecated and will be removed in a future version. Use .items instead.\n",
      "  fields = [\n",
      "/home/abinbev/anaconda3/envs/aikit-modin/lib/python3.9/site-packages/pyspark/sql/pandas/conversion.py:486: FutureWarning: iteritems is deprecated and will be removed in a future version. Use .items instead.\n",
      "  for column, series in pdf.iteritems():\n"
     ]
    },
    {
     "data": {
      "text/plain": [
       "{'num_cols': [], 'str_cols': ['e'], 'date_cols': ['c', 'd']}"
      ]
     },
     "execution_count": 19,
     "metadata": {},
     "output_type": "execute_result"
    }
   ],
   "source": [
    "def basic_schema_df(df):\n",
    "    # TODO: This does not work in Pandas for Spark\n",
    "    num_cols = df.select_dtypes('number').columns.tolist()\n",
    "    str_cols = df.select_dtypes('object').columns.tolist()\n",
    "    date_cols = df.select_dtypes('datetime64[ns]').columns.tolist()\n",
    "    return {\"num_cols\": num_cols, \"str_cols\": str_cols, \"date_cols\": date_cols}\n",
    "try:\n",
    "    df_date = read_csv_with_parser('test_date_str.csv')\n",
    "except:\n",
    "    df_date = get_df_time_str()\n",
    "df_date = parse_date(df_date, date_formats)\n",
    "basic_schema = basic_schema_df(df_date)\n",
    "basic_schema"
   ]
  }
 ],
 "metadata": {
  "kernelspec": {
   "display_name": "aikit-modin",
   "language": "python",
   "name": "python3"
  },
  "language_info": {
   "codemirror_mode": {
    "name": "ipython",
    "version": 3
   },
   "file_extension": ".py",
   "mimetype": "text/x-python",
   "name": "python",
   "nbconvert_exporter": "python",
   "pygments_lexer": "ipython3",
   "version": "3.9.16"
  },
  "orig_nbformat": 4,
  "vscode": {
   "interpreter": {
    "hash": "8121b32d35b4abb4d750b8479b72692fa79b5889dc196d3d95aac47162b231e6"
   }
  }
 },
 "nbformat": 4,
 "nbformat_minor": 2
}
