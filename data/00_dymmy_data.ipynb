{
 "cells": [
  {
   "cell_type": "code",
   "execution_count": 1,
   "metadata": {},
   "outputs": [],
   "source": [
    "import pandas as pd\n",
    "\n",
    "# create a dataframe and save as csv\n",
    "df = pd.DataFrame({'a': [1, 2, 3], 'b': [4, 5, 6]})\n",
    "df.to_csv('test.csv')\n",
    "df.to_csv('test.csv.gzip',compression='gzip',index=False)"
   ]
  },
  {
   "cell_type": "code",
   "execution_count": 2,
   "metadata": {},
   "outputs": [],
   "source": [
    "# create a dataframe with two date columns and save as csv\n",
    "\n",
    "df = pd.DataFrame({'a': [1, 2, 3], 'b': [4, 5, 6], 'c': ['2019-01-01', '2019-01-02', '2019-01-03'], 'd': ['2019-01-01', '2019-01-02', '2019-01-03']})\n",
    "df.to_csv('test_date.csv')"
   ]
  },
  {
   "cell_type": "code",
   "execution_count": 3,
   "metadata": {},
   "outputs": [],
   "source": [
    "# create a dataframe with string, number and dates and save as csv\n",
    "\n",
    "df = pd.DataFrame({'a': [1, 2, 3], 'b': [4, 5, 6], 'c': ['2019-01-01', '2019-01-02', '2019-01-03'], 'd': ['2019-01-01', '2019-01-02', '2019-01-03'], 'e': ['a', 'b', 'c']})\n",
    "df.to_csv('test_date_str.csv', index=False)"
   ]
  },
  {
   "cell_type": "code",
   "execution_count": null,
   "metadata": {},
   "outputs": [],
   "source": []
  }
 ],
 "metadata": {
  "kernelspec": {
   "display_name": "aikit-modin",
   "language": "python",
   "name": "python3"
  },
  "language_info": {
   "codemirror_mode": {
    "name": "ipython",
    "version": 3
   },
   "file_extension": ".py",
   "mimetype": "text/x-python",
   "name": "python",
   "nbconvert_exporter": "python",
   "pygments_lexer": "ipython3",
   "version": "3.9.16"
  },
  "orig_nbformat": 4,
  "vscode": {
   "interpreter": {
    "hash": "8121b32d35b4abb4d750b8479b72692fa79b5889dc196d3d95aac47162b231e6"
   }
  }
 },
 "nbformat": 4,
 "nbformat_minor": 2
}
