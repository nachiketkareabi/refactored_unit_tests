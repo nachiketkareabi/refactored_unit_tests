{
 "cells": [
  {
   "cell_type": "code",
   "execution_count": null,
   "metadata": {},
   "outputs": [],
   "source": [
    "io_config = {\n",
    "    'data_dir': 'data',\n",
    "    'config_dir': 'configs',\n",
    "    'model_dir': 'models',\n",
    "    'log_dir': 'logs',\n",
    "    \"compression\": \"gzip\",\n",
    "    \"data_format\": \"csv\",\n",
    "    \"select_cols\": [\"a\", \"b\", \"c\", \"d\", \"e\", \"f\", \"g\", \"h\", \"i\"],\n",
    "    \"data_type_dict\": {\"number\": [\"a\", \"b\", \"c\", \"d\"], \"string\": [\"e\", \"f\", \"g\"], \"date\": [\"h\", \"i\"]}\n",
    "}\n",
    "\n",
    "parsing_config = {\n",
    "    \"date_configs\":  [{\"date_column\": \"h\", \"format\": \"%Y-%m-%d\"},{\"date_column\": \"i\", \"format\": \"%Y-%m-%d\"}],\n",
    "    \"rename_cols\": {\"poc_id\": \"a2\", \"date\": \"b1\", \"sku_id\": \"c1\", \"quantity\": \"d1\", \"order_id\": None, \"state_id\": None, \"city_id\": None},\n",
    "}\n",
    "\n",
    "\n",
    "# 1. read sample data: use `select_cols` for reading data. example: sample_df = pd.read_csv('data.csv', usecols=select_cols, nrows=1000)\n",
    "# 2. parse date columns according to `date_configs`\n",
    "# 3. then optimized the data set so that we can get a `full_data_types_dict`.\n",
    "# 4. read full data using `full_data_types_dict` and `select_cols`: optimized_data = pd.read_csv(path, data_types_dict=full_data_types_dict, usecols=select_cols).rename(columns=rename_cols)\n",
    "# 5. rename_cols: should be for mandatory columns. We need to have assert statement to check if all mandatory columns are present in the data set. We should not allow other columns to be renamed.\n",
    "# 6. \n"
   ]
  }
 ],
 "metadata": {
  "language_info": {
   "name": "python"
  },
  "orig_nbformat": 4
 },
 "nbformat": 4,
 "nbformat_minor": 2
}
